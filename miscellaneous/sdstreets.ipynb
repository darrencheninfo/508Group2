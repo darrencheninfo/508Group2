{
 "cells": [
  {
   "cell_type": "code",
   "execution_count": 1,
   "metadata": {},
   "outputs": [],
   "source": [
    "import pandas as pd\n",
    "import numpy as np\n",
    "import datetime\n",
    "import sqlite3 as sq\n",
    "from prettytable import PrettyTable \n",
    "from imblearn.over_sampling import SMOTE, ADASYN\n",
    "from sklearn.decomposition import PCA\n",
    "\n",
    "import matplotlib.pyplot as plt\n",
    "import seaborn as sns\n",
    "\n",
    "import warnings\n",
    "warnings.filterwarnings('ignore')"
   ]
  },
  {
   "cell_type": "code",
   "execution_count": 2,
   "metadata": {},
   "outputs": [],
   "source": [
    "connection = sq.connect('streetsd')\n",
    "conn = connection.cursor()"
   ]
  },
  {
   "cell_type": "code",
   "execution_count": 3,
   "metadata": {},
   "outputs": [
    {
     "data": {
      "text/plain": [
       "<sqlite3.Cursor at 0x2112c059b20>"
      ]
     },
     "execution_count": 3,
     "metadata": {},
     "output_type": "execute_result"
    }
   ],
   "source": [
    "conn.execute(\"CREATE TABLE IF NOT EXISTS test_table\" + \n",
    "            \"(seg_id string,oci float,street string,\\\n",
    "              street_from string,street_to string,\\\n",
    "              seg_length_ft float,seg_width_ft float, \\\n",
    "              func_class string,pvm_class string, \\\n",
    "              area_sq_ft float, oci_desc string, \\\n",
    "              oci_wt float)\")"
   ]
  },
  {
   "cell_type": "code",
   "execution_count": 4,
   "metadata": {},
   "outputs": [],
   "source": [
    "table1 = pd.read_csv('oci_2015_datasd.csv')"
   ]
  },
  {
   "cell_type": "code",
   "execution_count": 5,
   "metadata": {},
   "outputs": [],
   "source": [
    "table1.to_sql('test_table', connection, if_exists='replace', index=False)"
   ]
  },
  {
   "cell_type": "code",
   "execution_count": 6,
   "metadata": {},
   "outputs": [
    {
     "data": {
      "text/html": [
       "<div>\n",
       "<style scoped>\n",
       "    .dataframe tbody tr th:only-of-type {\n",
       "        vertical-align: middle;\n",
       "    }\n",
       "\n",
       "    .dataframe tbody tr th {\n",
       "        vertical-align: top;\n",
       "    }\n",
       "\n",
       "    .dataframe thead th {\n",
       "        text-align: right;\n",
       "    }\n",
       "</style>\n",
       "<table border=\"1\" class=\"dataframe\">\n",
       "  <thead>\n",
       "    <tr style=\"text-align: right;\">\n",
       "      <th></th>\n",
       "      <th>seg_id</th>\n",
       "      <th>oci</th>\n",
       "      <th>street</th>\n",
       "      <th>street_from</th>\n",
       "      <th>street_to</th>\n",
       "      <th>seg_length_ft</th>\n",
       "      <th>seg_width_ft</th>\n",
       "      <th>func_class</th>\n",
       "      <th>pvm_class</th>\n",
       "      <th>area_sq_ft</th>\n",
       "      <th>oci_desc</th>\n",
       "      <th>oci_wt</th>\n",
       "    </tr>\n",
       "  </thead>\n",
       "  <tbody>\n",
       "    <tr>\n",
       "      <th>0</th>\n",
       "      <td>SA-000003</td>\n",
       "      <td>65.14</td>\n",
       "      <td>ALLEY</td>\n",
       "      <td>None</td>\n",
       "      <td>None</td>\n",
       "      <td>772.7258</td>\n",
       "      <td>30.0</td>\n",
       "      <td>Alley</td>\n",
       "      <td>PCC Jointed Concrete</td>\n",
       "      <td>23181.774</td>\n",
       "      <td>Fair</td>\n",
       "      <td>1.510061e+06</td>\n",
       "    </tr>\n",
       "    <tr>\n",
       "      <th>1</th>\n",
       "      <td>SA-000004</td>\n",
       "      <td>67.45</td>\n",
       "      <td>ALLEY</td>\n",
       "      <td>None</td>\n",
       "      <td>None</td>\n",
       "      <td>196.0025</td>\n",
       "      <td>30.0</td>\n",
       "      <td>Alley</td>\n",
       "      <td>PCC Jointed Concrete</td>\n",
       "      <td>5880.075</td>\n",
       "      <td>Fair</td>\n",
       "      <td>3.966111e+05</td>\n",
       "    </tr>\n",
       "    <tr>\n",
       "      <th>2</th>\n",
       "      <td>SA-000005</td>\n",
       "      <td>70.88</td>\n",
       "      <td>ALLEY</td>\n",
       "      <td>None</td>\n",
       "      <td>None</td>\n",
       "      <td>395.0049</td>\n",
       "      <td>30.0</td>\n",
       "      <td>Alley</td>\n",
       "      <td>PCC Jointed Concrete</td>\n",
       "      <td>11850.147</td>\n",
       "      <td>Good</td>\n",
       "      <td>8.399384e+05</td>\n",
       "    </tr>\n",
       "    <tr>\n",
       "      <th>3</th>\n",
       "      <td>SA-000006</td>\n",
       "      <td>84.00</td>\n",
       "      <td>ALLEY</td>\n",
       "      <td>None</td>\n",
       "      <td>None</td>\n",
       "      <td>192.0025</td>\n",
       "      <td>30.0</td>\n",
       "      <td>Alley</td>\n",
       "      <td>PCC Jointed Concrete</td>\n",
       "      <td>5760.075</td>\n",
       "      <td>Good</td>\n",
       "      <td>4.838463e+05</td>\n",
       "    </tr>\n",
       "    <tr>\n",
       "      <th>4</th>\n",
       "      <td>SA-000008</td>\n",
       "      <td>79.24</td>\n",
       "      <td>ALLEY</td>\n",
       "      <td>None</td>\n",
       "      <td>None</td>\n",
       "      <td>251.7540</td>\n",
       "      <td>30.0</td>\n",
       "      <td>Alley</td>\n",
       "      <td>PCC Jointed Concrete</td>\n",
       "      <td>7552.620</td>\n",
       "      <td>Good</td>\n",
       "      <td>5.984696e+05</td>\n",
       "    </tr>\n",
       "  </tbody>\n",
       "</table>\n",
       "</div>"
      ],
      "text/plain": [
       "      seg_id    oci street street_from street_to  seg_length_ft  seg_width_ft  \\\n",
       "0  SA-000003  65.14  ALLEY        None      None       772.7258          30.0   \n",
       "1  SA-000004  67.45  ALLEY        None      None       196.0025          30.0   \n",
       "2  SA-000005  70.88  ALLEY        None      None       395.0049          30.0   \n",
       "3  SA-000006  84.00  ALLEY        None      None       192.0025          30.0   \n",
       "4  SA-000008  79.24  ALLEY        None      None       251.7540          30.0   \n",
       "\n",
       "  func_class             pvm_class  area_sq_ft oci_desc        oci_wt  \n",
       "0      Alley  PCC Jointed Concrete   23181.774     Fair  1.510061e+06  \n",
       "1      Alley  PCC Jointed Concrete    5880.075     Fair  3.966111e+05  \n",
       "2      Alley  PCC Jointed Concrete   11850.147     Good  8.399384e+05  \n",
       "3      Alley  PCC Jointed Concrete    5760.075     Good  4.838463e+05  \n",
       "4      Alley  PCC Jointed Concrete    7552.620     Good  5.984696e+05  "
      ]
     },
     "execution_count": 6,
     "metadata": {},
     "output_type": "execute_result"
    }
   ],
   "source": [
    "pd.read_sql(f'SELECT * FROM test_table limit 5', connection)"
   ]
  },
  {
   "cell_type": "code",
   "execution_count": 7,
   "metadata": {},
   "outputs": [
    {
     "data": {
      "text/plain": [
       "<sqlite3.Cursor at 0x2112c059b20>"
      ]
     },
     "execution_count": 7,
     "metadata": {},
     "output_type": "execute_result"
    }
   ],
   "source": [
    "conn.execute(\"CREATE TABLE IF NOT EXISTS test_table2\" + \n",
    "            \"(pve_id int,seg_id string,project_id string,\\\n",
    "              title string,project_manager string, \\\n",
    "              project_manager_phone string,status string,\\\n",
    "              type string,resident_engineer string, \\\n",
    "              address_street string,street_from string, \\\n",
    "              street_to string,seg_cd int,length int, \\\n",
    "              width int,date_moratorium date,date_start date,\\\n",
    "              date_end date,paving_miles float)\")"
   ]
  },
  {
   "cell_type": "code",
   "execution_count": 8,
   "metadata": {},
   "outputs": [],
   "source": [
    "table_2 = pd.read_csv(\"sd_paving_datasd.csv\")"
   ]
  },
  {
   "cell_type": "code",
   "execution_count": 9,
   "metadata": {},
   "outputs": [],
   "source": [
    "table_2.to_sql('test_table2', connection, if_exists='replace', index=False)"
   ]
  },
  {
   "cell_type": "code",
   "execution_count": 10,
   "metadata": {},
   "outputs": [
    {
     "data": {
      "text/html": [
       "<div>\n",
       "<style scoped>\n",
       "    .dataframe tbody tr th:only-of-type {\n",
       "        vertical-align: middle;\n",
       "    }\n",
       "\n",
       "    .dataframe tbody tr th {\n",
       "        vertical-align: top;\n",
       "    }\n",
       "\n",
       "    .dataframe thead th {\n",
       "        text-align: right;\n",
       "    }\n",
       "</style>\n",
       "<table border=\"1\" class=\"dataframe\">\n",
       "  <thead>\n",
       "    <tr style=\"text-align: right;\">\n",
       "      <th></th>\n",
       "      <th>pve_id</th>\n",
       "      <th>seg_id</th>\n",
       "      <th>project_id</th>\n",
       "      <th>title</th>\n",
       "      <th>project_manager</th>\n",
       "      <th>project_manager_phone</th>\n",
       "      <th>status</th>\n",
       "      <th>type</th>\n",
       "      <th>resident_engineer</th>\n",
       "      <th>address_street</th>\n",
       "      <th>street_from</th>\n",
       "      <th>street_to</th>\n",
       "      <th>seg_cd</th>\n",
       "      <th>length</th>\n",
       "      <th>width</th>\n",
       "      <th>date_moratorium</th>\n",
       "      <th>date_start</th>\n",
       "      <th>date_end</th>\n",
       "      <th>paving_miles</th>\n",
       "    </tr>\n",
       "  </thead>\n",
       "  <tbody>\n",
       "    <tr>\n",
       "      <th>0</th>\n",
       "      <td>1073577074</td>\n",
       "      <td>SA-000319</td>\n",
       "      <td>UTLY</td>\n",
       "      <td>Public Works CIP</td>\n",
       "      <td>Engineering@sandiego.gov</td>\n",
       "      <td>858-627-3200</td>\n",
       "      <td>post construction</td>\n",
       "      <td>Overlay</td>\n",
       "      <td>ECP</td>\n",
       "      <td>ALLEY</td>\n",
       "      <td>None</td>\n",
       "      <td>None</td>\n",
       "      <td>2.0</td>\n",
       "      <td>0</td>\n",
       "      <td>NaN</td>\n",
       "      <td>2019-02-02</td>\n",
       "      <td>2019-02-02</td>\n",
       "      <td>2019-02-02</td>\n",
       "      <td>0.000000</td>\n",
       "    </tr>\n",
       "    <tr>\n",
       "      <th>1</th>\n",
       "      <td>1792486183</td>\n",
       "      <td>SA-000345</td>\n",
       "      <td>UTLY</td>\n",
       "      <td>Public Works CIP</td>\n",
       "      <td>Engineering@sandiego.gov</td>\n",
       "      <td>858-627-3200</td>\n",
       "      <td>post construction</td>\n",
       "      <td>Slurry</td>\n",
       "      <td>ECP</td>\n",
       "      <td>ALLEY</td>\n",
       "      <td>None</td>\n",
       "      <td>None</td>\n",
       "      <td>2.0</td>\n",
       "      <td>938</td>\n",
       "      <td>30.0</td>\n",
       "      <td>2019-01-30</td>\n",
       "      <td>2019-01-30</td>\n",
       "      <td>2019-01-30</td>\n",
       "      <td>0.177652</td>\n",
       "    </tr>\n",
       "    <tr>\n",
       "      <th>2</th>\n",
       "      <td>1173780646</td>\n",
       "      <td>SA-000375</td>\n",
       "      <td>UTLY</td>\n",
       "      <td>Public Works CIP</td>\n",
       "      <td>Engineering@sandiego.gov</td>\n",
       "      <td>858-627-3200</td>\n",
       "      <td>post construction</td>\n",
       "      <td>Slurry</td>\n",
       "      <td>ECP</td>\n",
       "      <td>ALLEY</td>\n",
       "      <td>None</td>\n",
       "      <td>None</td>\n",
       "      <td>2.0</td>\n",
       "      <td>674</td>\n",
       "      <td>30.0</td>\n",
       "      <td>2018-08-01</td>\n",
       "      <td>2018-08-01</td>\n",
       "      <td>2018-08-01</td>\n",
       "      <td>0.127652</td>\n",
       "    </tr>\n",
       "    <tr>\n",
       "      <th>3</th>\n",
       "      <td>1276790298</td>\n",
       "      <td>SA-000378</td>\n",
       "      <td>UTLY</td>\n",
       "      <td>Public Works CIP</td>\n",
       "      <td>Engineering@sandiego.gov</td>\n",
       "      <td>858-627-3200</td>\n",
       "      <td>post construction</td>\n",
       "      <td>Slurry</td>\n",
       "      <td>ECP</td>\n",
       "      <td>ALLEY</td>\n",
       "      <td>None</td>\n",
       "      <td>None</td>\n",
       "      <td>2.0</td>\n",
       "      <td>658</td>\n",
       "      <td>30.0</td>\n",
       "      <td>2018-08-01</td>\n",
       "      <td>2018-08-01</td>\n",
       "      <td>2018-08-01</td>\n",
       "      <td>0.124621</td>\n",
       "    </tr>\n",
       "    <tr>\n",
       "      <th>4</th>\n",
       "      <td>27170959</td>\n",
       "      <td>SA-001081</td>\n",
       "      <td>UTLY</td>\n",
       "      <td>Public Works CIP</td>\n",
       "      <td>Engineering@sandiego.gov</td>\n",
       "      <td>858-627-3200</td>\n",
       "      <td>post construction</td>\n",
       "      <td>Concrete</td>\n",
       "      <td>ECP</td>\n",
       "      <td>ALLEY</td>\n",
       "      <td>None</td>\n",
       "      <td>None</td>\n",
       "      <td>9.0</td>\n",
       "      <td>680</td>\n",
       "      <td>30.0</td>\n",
       "      <td>None</td>\n",
       "      <td>2020-08-13</td>\n",
       "      <td>2020-08-13</td>\n",
       "      <td>0.128788</td>\n",
       "    </tr>\n",
       "  </tbody>\n",
       "</table>\n",
       "</div>"
      ],
      "text/plain": [
       "       pve_id     seg_id project_id             title  \\\n",
       "0  1073577074  SA-000319       UTLY  Public Works CIP   \n",
       "1  1792486183  SA-000345       UTLY  Public Works CIP   \n",
       "2  1173780646  SA-000375       UTLY  Public Works CIP   \n",
       "3  1276790298  SA-000378       UTLY  Public Works CIP   \n",
       "4    27170959  SA-001081       UTLY  Public Works CIP   \n",
       "\n",
       "            project_manager project_manager_phone             status  \\\n",
       "0  Engineering@sandiego.gov          858-627-3200  post construction   \n",
       "1  Engineering@sandiego.gov          858-627-3200  post construction   \n",
       "2  Engineering@sandiego.gov          858-627-3200  post construction   \n",
       "3  Engineering@sandiego.gov          858-627-3200  post construction   \n",
       "4  Engineering@sandiego.gov          858-627-3200  post construction   \n",
       "\n",
       "       type resident_engineer address_street street_from street_to  seg_cd  \\\n",
       "0   Overlay               ECP          ALLEY        None      None     2.0   \n",
       "1    Slurry               ECP          ALLEY        None      None     2.0   \n",
       "2    Slurry               ECP          ALLEY        None      None     2.0   \n",
       "3    Slurry               ECP          ALLEY        None      None     2.0   \n",
       "4  Concrete               ECP          ALLEY        None      None     9.0   \n",
       "\n",
       "   length  width date_moratorium  date_start    date_end  paving_miles  \n",
       "0       0    NaN      2019-02-02  2019-02-02  2019-02-02      0.000000  \n",
       "1     938   30.0      2019-01-30  2019-01-30  2019-01-30      0.177652  \n",
       "2     674   30.0      2018-08-01  2018-08-01  2018-08-01      0.127652  \n",
       "3     658   30.0      2018-08-01  2018-08-01  2018-08-01      0.124621  \n",
       "4     680   30.0            None  2020-08-13  2020-08-13      0.128788  "
      ]
     },
     "execution_count": 10,
     "metadata": {},
     "output_type": "execute_result"
    }
   ],
   "source": [
    "pd.read_sql(f'SELECT * FROM test_table2 limit 5', connection)"
   ]
  },
  {
   "cell_type": "code",
   "execution_count": 11,
   "metadata": {},
   "outputs": [
    {
     "data": {
      "text/plain": [
       "<sqlite3.Cursor at 0x2112c059b20>"
      ]
     },
     "execution_count": 11,
     "metadata": {},
     "output_type": "execute_result"
    }
   ],
   "source": [
    "conn.execute(\"CREATE TABLE IF NOT EXISTS test_table3\" + \n",
    "            \"(id string,street_name string,limits string,\\\n",
    "              northbound_count int,southbound_count int, \\\n",
    "              eastbound_count int,westbound_count int, \\\n",
    "              total_count int,file_no string,date_count date)\")"
   ]
  },
  {
   "cell_type": "code",
   "execution_count": 12,
   "metadata": {},
   "outputs": [],
   "source": [
    "table_3 = pd.read_csv(\"traffic_counts_datasd.csv\")"
   ]
  },
  {
   "cell_type": "code",
   "execution_count": 13,
   "metadata": {},
   "outputs": [],
   "source": [
    "table_3.to_sql('test_table3', connection, if_exists='replace', index=False)"
   ]
  },
  {
   "cell_type": "code",
   "execution_count": 14,
   "metadata": {},
   "outputs": [
    {
     "data": {
      "text/html": [
       "<div>\n",
       "<style scoped>\n",
       "    .dataframe tbody tr th:only-of-type {\n",
       "        vertical-align: middle;\n",
       "    }\n",
       "\n",
       "    .dataframe tbody tr th {\n",
       "        vertical-align: top;\n",
       "    }\n",
       "\n",
       "    .dataframe thead th {\n",
       "        text-align: right;\n",
       "    }\n",
       "</style>\n",
       "<table border=\"1\" class=\"dataframe\">\n",
       "  <thead>\n",
       "    <tr style=\"text-align: right;\">\n",
       "      <th></th>\n",
       "      <th>id</th>\n",
       "      <th>street_name</th>\n",
       "      <th>limits</th>\n",
       "      <th>northbound_count</th>\n",
       "      <th>southbound_count</th>\n",
       "      <th>eastbound_count</th>\n",
       "      <th>westbound_count</th>\n",
       "      <th>total_count</th>\n",
       "      <th>file_no</th>\n",
       "      <th>date_count</th>\n",
       "    </tr>\n",
       "  </thead>\n",
       "  <tbody>\n",
       "    <tr>\n",
       "      <th>0</th>\n",
       "      <td>01AV018207</td>\n",
       "      <td>01 AV</td>\n",
       "      <td>A ST - ASH ST</td>\n",
       "      <td>18010</td>\n",
       "      <td>None</td>\n",
       "      <td>None</td>\n",
       "      <td>None</td>\n",
       "      <td>18010</td>\n",
       "      <td>0182-07</td>\n",
       "      <td>2007-03-13</td>\n",
       "    </tr>\n",
       "    <tr>\n",
       "      <th>1</th>\n",
       "      <td>01AV015210</td>\n",
       "      <td>01 AV</td>\n",
       "      <td>A ST - ASH ST</td>\n",
       "      <td>20060</td>\n",
       "      <td>None</td>\n",
       "      <td>None</td>\n",
       "      <td>None</td>\n",
       "      <td>20060</td>\n",
       "      <td>0152-10</td>\n",
       "      <td>2010-03-18</td>\n",
       "    </tr>\n",
       "    <tr>\n",
       "      <th>2</th>\n",
       "      <td>01AV018213</td>\n",
       "      <td>01 AV</td>\n",
       "      <td>A ST - ASH ST</td>\n",
       "      <td>19597</td>\n",
       "      <td>None</td>\n",
       "      <td>None</td>\n",
       "      <td>None</td>\n",
       "      <td>19597</td>\n",
       "      <td>0182-13</td>\n",
       "      <td>2013-03-12</td>\n",
       "    </tr>\n",
       "    <tr>\n",
       "      <th>3</th>\n",
       "      <td>01AV007721</td>\n",
       "      <td>01 AV</td>\n",
       "      <td>A ST - ASH ST</td>\n",
       "      <td>10640</td>\n",
       "      <td>None</td>\n",
       "      <td>None</td>\n",
       "      <td>None</td>\n",
       "      <td>10640</td>\n",
       "      <td>0077-21</td>\n",
       "      <td>2021-03-10</td>\n",
       "    </tr>\n",
       "    <tr>\n",
       "      <th>4</th>\n",
       "      <td>01AV088812</td>\n",
       "      <td>01 AV</td>\n",
       "      <td>ASH ST - BEECH ST</td>\n",
       "      <td>2298</td>\n",
       "      <td>None</td>\n",
       "      <td>None</td>\n",
       "      <td>None</td>\n",
       "      <td>2298</td>\n",
       "      <td>0888-12</td>\n",
       "      <td>2012-12-11</td>\n",
       "    </tr>\n",
       "  </tbody>\n",
       "</table>\n",
       "</div>"
      ],
      "text/plain": [
       "           id street_name             limits northbound_count  \\\n",
       "0  01AV018207       01 AV      A ST - ASH ST            18010   \n",
       "1  01AV015210       01 AV      A ST - ASH ST            20060   \n",
       "2  01AV018213       01 AV      A ST - ASH ST            19597   \n",
       "3  01AV007721       01 AV      A ST - ASH ST            10640   \n",
       "4  01AV088812       01 AV  ASH ST - BEECH ST             2298   \n",
       "\n",
       "  southbound_count eastbound_count westbound_count  total_count  file_no  \\\n",
       "0             None            None            None        18010  0182-07   \n",
       "1             None            None            None        20060  0152-10   \n",
       "2             None            None            None        19597  0182-13   \n",
       "3             None            None            None        10640  0077-21   \n",
       "4             None            None            None         2298  0888-12   \n",
       "\n",
       "   date_count  \n",
       "0  2007-03-13  \n",
       "1  2010-03-18  \n",
       "2  2013-03-12  \n",
       "3  2021-03-10  \n",
       "4  2012-12-11  "
      ]
     },
     "execution_count": 14,
     "metadata": {},
     "output_type": "execute_result"
    }
   ],
   "source": [
    "pd.read_sql(f'SELECT * FROM test_table3 limit 5', connection)"
   ]
  },
  {
   "cell_type": "code",
   "execution_count": 15,
   "metadata": {},
   "outputs": [],
   "source": [
    "df = pd.read_sql(f'SELECT * FROM (SELECT * FROM test_table \\\n",
    "                   t1 INNER JOIN test_table2 t2 \\\n",
    "                   ON t1.seg_id = t2.seg_id) m1 LEFT JOIN (SELECT street_name, \\\n",
    "                                                           SUM(total_count) total_count \\\n",
    "                                                           FROM test_table3 \\\n",
    "                                                           GROUP BY street_name) t3 \\\n",
    "                   ON m1.address_street = t3.street_name', connection)"
   ]
  },
  {
   "cell_type": "code",
   "execution_count": 16,
   "metadata": {},
   "outputs": [
    {
     "data": {
      "text/html": [
       "<div>\n",
       "<style scoped>\n",
       "    .dataframe tbody tr th:only-of-type {\n",
       "        vertical-align: middle;\n",
       "    }\n",
       "\n",
       "    .dataframe tbody tr th {\n",
       "        vertical-align: top;\n",
       "    }\n",
       "\n",
       "    .dataframe thead th {\n",
       "        text-align: right;\n",
       "    }\n",
       "</style>\n",
       "<table border=\"1\" class=\"dataframe\">\n",
       "  <thead>\n",
       "    <tr style=\"text-align: right;\">\n",
       "      <th></th>\n",
       "      <th>seg_id</th>\n",
       "      <th>oci</th>\n",
       "      <th>street</th>\n",
       "      <th>street_from</th>\n",
       "      <th>street_to</th>\n",
       "      <th>seg_length_ft</th>\n",
       "      <th>seg_width_ft</th>\n",
       "      <th>func_class</th>\n",
       "      <th>pvm_class</th>\n",
       "      <th>area_sq_ft</th>\n",
       "      <th>...</th>\n",
       "      <th>street_to:1</th>\n",
       "      <th>seg_cd</th>\n",
       "      <th>length</th>\n",
       "      <th>width</th>\n",
       "      <th>date_moratorium</th>\n",
       "      <th>date_start</th>\n",
       "      <th>date_end</th>\n",
       "      <th>paving_miles</th>\n",
       "      <th>street_name</th>\n",
       "      <th>total_count</th>\n",
       "    </tr>\n",
       "  </thead>\n",
       "  <tbody>\n",
       "    <tr>\n",
       "      <th>0</th>\n",
       "      <td>SA-000345</td>\n",
       "      <td>34.14</td>\n",
       "      <td>ALLEY</td>\n",
       "      <td>None</td>\n",
       "      <td>None</td>\n",
       "      <td>937.9261</td>\n",
       "      <td>30.0</td>\n",
       "      <td>Alley</td>\n",
       "      <td>AC Improved</td>\n",
       "      <td>28137.783</td>\n",
       "      <td>...</td>\n",
       "      <td>None</td>\n",
       "      <td>2.0</td>\n",
       "      <td>938</td>\n",
       "      <td>30.0</td>\n",
       "      <td>2019-01-30</td>\n",
       "      <td>2019-01-30</td>\n",
       "      <td>2019-01-30</td>\n",
       "      <td>0.177652</td>\n",
       "      <td>None</td>\n",
       "      <td>NaN</td>\n",
       "    </tr>\n",
       "    <tr>\n",
       "      <th>1</th>\n",
       "      <td>SA-000375</td>\n",
       "      <td>97.25</td>\n",
       "      <td>ALLEY</td>\n",
       "      <td>None</td>\n",
       "      <td>None</td>\n",
       "      <td>673.3209</td>\n",
       "      <td>30.0</td>\n",
       "      <td>Alley</td>\n",
       "      <td>PCC Jointed Concrete</td>\n",
       "      <td>20199.627</td>\n",
       "      <td>...</td>\n",
       "      <td>None</td>\n",
       "      <td>2.0</td>\n",
       "      <td>674</td>\n",
       "      <td>30.0</td>\n",
       "      <td>2018-08-01</td>\n",
       "      <td>2018-08-01</td>\n",
       "      <td>2018-08-01</td>\n",
       "      <td>0.127652</td>\n",
       "      <td>None</td>\n",
       "      <td>NaN</td>\n",
       "    </tr>\n",
       "    <tr>\n",
       "      <th>2</th>\n",
       "      <td>SA-000378</td>\n",
       "      <td>62.67</td>\n",
       "      <td>ALLEY</td>\n",
       "      <td>None</td>\n",
       "      <td>None</td>\n",
       "      <td>657.2000</td>\n",
       "      <td>30.0</td>\n",
       "      <td>Alley</td>\n",
       "      <td>PCC Jointed Concrete</td>\n",
       "      <td>19716.000</td>\n",
       "      <td>...</td>\n",
       "      <td>None</td>\n",
       "      <td>2.0</td>\n",
       "      <td>658</td>\n",
       "      <td>30.0</td>\n",
       "      <td>2018-08-01</td>\n",
       "      <td>2018-08-01</td>\n",
       "      <td>2018-08-01</td>\n",
       "      <td>0.124621</td>\n",
       "      <td>None</td>\n",
       "      <td>NaN</td>\n",
       "    </tr>\n",
       "    <tr>\n",
       "      <th>3</th>\n",
       "      <td>SA-001081</td>\n",
       "      <td>68.86</td>\n",
       "      <td>ALLEY</td>\n",
       "      <td>None</td>\n",
       "      <td>None</td>\n",
       "      <td>679.1060</td>\n",
       "      <td>30.0</td>\n",
       "      <td>Alley</td>\n",
       "      <td>PCC Jointed Concrete</td>\n",
       "      <td>20373.180</td>\n",
       "      <td>...</td>\n",
       "      <td>None</td>\n",
       "      <td>9.0</td>\n",
       "      <td>680</td>\n",
       "      <td>30.0</td>\n",
       "      <td>None</td>\n",
       "      <td>2020-08-13</td>\n",
       "      <td>2020-08-13</td>\n",
       "      <td>0.128788</td>\n",
       "      <td>None</td>\n",
       "      <td>NaN</td>\n",
       "    </tr>\n",
       "    <tr>\n",
       "      <th>4</th>\n",
       "      <td>SA-001083</td>\n",
       "      <td>28.67</td>\n",
       "      <td>ALLEY</td>\n",
       "      <td>None</td>\n",
       "      <td>None</td>\n",
       "      <td>660.0917</td>\n",
       "      <td>30.0</td>\n",
       "      <td>Alley</td>\n",
       "      <td>PCC Jointed Concrete</td>\n",
       "      <td>19802.751</td>\n",
       "      <td>...</td>\n",
       "      <td>None</td>\n",
       "      <td>9.0</td>\n",
       "      <td>661</td>\n",
       "      <td>30.0</td>\n",
       "      <td>None</td>\n",
       "      <td>2020-07-31</td>\n",
       "      <td>2020-07-31</td>\n",
       "      <td>0.125189</td>\n",
       "      <td>None</td>\n",
       "      <td>NaN</td>\n",
       "    </tr>\n",
       "  </tbody>\n",
       "</table>\n",
       "<p>5 rows × 33 columns</p>\n",
       "</div>"
      ],
      "text/plain": [
       "      seg_id    oci street street_from street_to  seg_length_ft  seg_width_ft  \\\n",
       "0  SA-000345  34.14  ALLEY        None      None       937.9261          30.0   \n",
       "1  SA-000375  97.25  ALLEY        None      None       673.3209          30.0   \n",
       "2  SA-000378  62.67  ALLEY        None      None       657.2000          30.0   \n",
       "3  SA-001081  68.86  ALLEY        None      None       679.1060          30.0   \n",
       "4  SA-001083  28.67  ALLEY        None      None       660.0917          30.0   \n",
       "\n",
       "  func_class             pvm_class  area_sq_ft  ... street_to:1  seg_cd  \\\n",
       "0      Alley           AC Improved   28137.783  ...        None     2.0   \n",
       "1      Alley  PCC Jointed Concrete   20199.627  ...        None     2.0   \n",
       "2      Alley  PCC Jointed Concrete   19716.000  ...        None     2.0   \n",
       "3      Alley  PCC Jointed Concrete   20373.180  ...        None     9.0   \n",
       "4      Alley  PCC Jointed Concrete   19802.751  ...        None     9.0   \n",
       "\n",
       "   length width date_moratorium  date_start    date_end paving_miles  \\\n",
       "0     938  30.0      2019-01-30  2019-01-30  2019-01-30     0.177652   \n",
       "1     674  30.0      2018-08-01  2018-08-01  2018-08-01     0.127652   \n",
       "2     658  30.0      2018-08-01  2018-08-01  2018-08-01     0.124621   \n",
       "3     680  30.0            None  2020-08-13  2020-08-13     0.128788   \n",
       "4     661  30.0            None  2020-07-31  2020-07-31     0.125189   \n",
       "\n",
       "  street_name total_count  \n",
       "0        None         NaN  \n",
       "1        None         NaN  \n",
       "2        None         NaN  \n",
       "3        None         NaN  \n",
       "4        None         NaN  \n",
       "\n",
       "[5 rows x 33 columns]"
      ]
     },
     "execution_count": 16,
     "metadata": {},
     "output_type": "execute_result"
    }
   ],
   "source": [
    "df.head(5)"
   ]
  },
  {
   "cell_type": "code",
   "execution_count": 17,
   "metadata": {},
   "outputs": [],
   "source": [
    "# remove duplicated columns\n",
    "df = df.loc[:,~df.columns.duplicated()]"
   ]
  },
  {
   "cell_type": "markdown",
   "metadata": {},
   "source": [
    "### Exploratory Data Analysis (EDA)"
   ]
  },
  {
   "cell_type": "code",
   "execution_count": 18,
   "metadata": {},
   "outputs": [
    {
     "name": "stdout",
     "output_type": "stream",
     "text": [
      "Number of Rows: 23005\n",
      "Number of Columns: 33 \n",
      "\n"
     ]
    },
    {
     "data": {
      "text/html": [
       "<div>\n",
       "<style scoped>\n",
       "    .dataframe tbody tr th:only-of-type {\n",
       "        vertical-align: middle;\n",
       "    }\n",
       "\n",
       "    .dataframe tbody tr th {\n",
       "        vertical-align: top;\n",
       "    }\n",
       "\n",
       "    .dataframe thead th {\n",
       "        text-align: right;\n",
       "    }\n",
       "</style>\n",
       "<table border=\"1\" class=\"dataframe\">\n",
       "  <thead>\n",
       "    <tr style=\"text-align: right;\">\n",
       "      <th></th>\n",
       "      <th>Column/Variable</th>\n",
       "      <th>Data Type</th>\n",
       "      <th># of Nulls</th>\n",
       "    </tr>\n",
       "  </thead>\n",
       "  <tbody>\n",
       "    <tr>\n",
       "      <th>0</th>\n",
       "      <td>seg_id</td>\n",
       "      <td>object</td>\n",
       "      <td>0</td>\n",
       "    </tr>\n",
       "    <tr>\n",
       "      <th>1</th>\n",
       "      <td>oci</td>\n",
       "      <td>float64</td>\n",
       "      <td>0</td>\n",
       "    </tr>\n",
       "    <tr>\n",
       "      <th>2</th>\n",
       "      <td>street</td>\n",
       "      <td>object</td>\n",
       "      <td>0</td>\n",
       "    </tr>\n",
       "    <tr>\n",
       "      <th>3</th>\n",
       "      <td>street_from</td>\n",
       "      <td>object</td>\n",
       "      <td>15</td>\n",
       "    </tr>\n",
       "    <tr>\n",
       "      <th>4</th>\n",
       "      <td>street_to</td>\n",
       "      <td>object</td>\n",
       "      <td>15</td>\n",
       "    </tr>\n",
       "    <tr>\n",
       "      <th>5</th>\n",
       "      <td>seg_length_ft</td>\n",
       "      <td>float64</td>\n",
       "      <td>0</td>\n",
       "    </tr>\n",
       "    <tr>\n",
       "      <th>6</th>\n",
       "      <td>seg_width_ft</td>\n",
       "      <td>float64</td>\n",
       "      <td>0</td>\n",
       "    </tr>\n",
       "    <tr>\n",
       "      <th>7</th>\n",
       "      <td>func_class</td>\n",
       "      <td>object</td>\n",
       "      <td>0</td>\n",
       "    </tr>\n",
       "    <tr>\n",
       "      <th>8</th>\n",
       "      <td>pvm_class</td>\n",
       "      <td>object</td>\n",
       "      <td>0</td>\n",
       "    </tr>\n",
       "    <tr>\n",
       "      <th>9</th>\n",
       "      <td>area_sq_ft</td>\n",
       "      <td>float64</td>\n",
       "      <td>0</td>\n",
       "    </tr>\n",
       "    <tr>\n",
       "      <th>10</th>\n",
       "      <td>oci_desc</td>\n",
       "      <td>object</td>\n",
       "      <td>0</td>\n",
       "    </tr>\n",
       "    <tr>\n",
       "      <th>11</th>\n",
       "      <td>oci_wt</td>\n",
       "      <td>float64</td>\n",
       "      <td>0</td>\n",
       "    </tr>\n",
       "    <tr>\n",
       "      <th>12</th>\n",
       "      <td>pve_id</td>\n",
       "      <td>int64</td>\n",
       "      <td>0</td>\n",
       "    </tr>\n",
       "    <tr>\n",
       "      <th>13</th>\n",
       "      <td>seg_id:1</td>\n",
       "      <td>object</td>\n",
       "      <td>0</td>\n",
       "    </tr>\n",
       "    <tr>\n",
       "      <th>14</th>\n",
       "      <td>project_id</td>\n",
       "      <td>object</td>\n",
       "      <td>0</td>\n",
       "    </tr>\n",
       "    <tr>\n",
       "      <th>15</th>\n",
       "      <td>title</td>\n",
       "      <td>object</td>\n",
       "      <td>0</td>\n",
       "    </tr>\n",
       "    <tr>\n",
       "      <th>16</th>\n",
       "      <td>project_manager</td>\n",
       "      <td>object</td>\n",
       "      <td>0</td>\n",
       "    </tr>\n",
       "    <tr>\n",
       "      <th>17</th>\n",
       "      <td>project_manager_phone</td>\n",
       "      <td>object</td>\n",
       "      <td>0</td>\n",
       "    </tr>\n",
       "    <tr>\n",
       "      <th>18</th>\n",
       "      <td>status</td>\n",
       "      <td>object</td>\n",
       "      <td>0</td>\n",
       "    </tr>\n",
       "    <tr>\n",
       "      <th>19</th>\n",
       "      <td>type</td>\n",
       "      <td>object</td>\n",
       "      <td>0</td>\n",
       "    </tr>\n",
       "    <tr>\n",
       "      <th>20</th>\n",
       "      <td>resident_engineer</td>\n",
       "      <td>object</td>\n",
       "      <td>38</td>\n",
       "    </tr>\n",
       "    <tr>\n",
       "      <th>21</th>\n",
       "      <td>address_street</td>\n",
       "      <td>object</td>\n",
       "      <td>0</td>\n",
       "    </tr>\n",
       "    <tr>\n",
       "      <th>22</th>\n",
       "      <td>street_from:1</td>\n",
       "      <td>object</td>\n",
       "      <td>15</td>\n",
       "    </tr>\n",
       "    <tr>\n",
       "      <th>23</th>\n",
       "      <td>street_to:1</td>\n",
       "      <td>object</td>\n",
       "      <td>15</td>\n",
       "    </tr>\n",
       "    <tr>\n",
       "      <th>24</th>\n",
       "      <td>seg_cd</td>\n",
       "      <td>float64</td>\n",
       "      <td>0</td>\n",
       "    </tr>\n",
       "    <tr>\n",
       "      <th>25</th>\n",
       "      <td>length</td>\n",
       "      <td>int64</td>\n",
       "      <td>0</td>\n",
       "    </tr>\n",
       "    <tr>\n",
       "      <th>26</th>\n",
       "      <td>width</td>\n",
       "      <td>float64</td>\n",
       "      <td>0</td>\n",
       "    </tr>\n",
       "    <tr>\n",
       "      <th>27</th>\n",
       "      <td>date_moratorium</td>\n",
       "      <td>object</td>\n",
       "      <td>4426</td>\n",
       "    </tr>\n",
       "    <tr>\n",
       "      <th>28</th>\n",
       "      <td>date_start</td>\n",
       "      <td>object</td>\n",
       "      <td>1</td>\n",
       "    </tr>\n",
       "    <tr>\n",
       "      <th>29</th>\n",
       "      <td>date_end</td>\n",
       "      <td>object</td>\n",
       "      <td>7</td>\n",
       "    </tr>\n",
       "    <tr>\n",
       "      <th>30</th>\n",
       "      <td>paving_miles</td>\n",
       "      <td>float64</td>\n",
       "      <td>0</td>\n",
       "    </tr>\n",
       "    <tr>\n",
       "      <th>31</th>\n",
       "      <td>street_name</td>\n",
       "      <td>object</td>\n",
       "      <td>16874</td>\n",
       "    </tr>\n",
       "    <tr>\n",
       "      <th>32</th>\n",
       "      <td>total_count</td>\n",
       "      <td>float64</td>\n",
       "      <td>16874</td>\n",
       "    </tr>\n",
       "  </tbody>\n",
       "</table>\n",
       "</div>"
      ],
      "text/plain": [
       "          Column/Variable Data Type  # of Nulls\n",
       "0                  seg_id    object           0\n",
       "1                     oci   float64           0\n",
       "2                  street    object           0\n",
       "3             street_from    object          15\n",
       "4               street_to    object          15\n",
       "5           seg_length_ft   float64           0\n",
       "6            seg_width_ft   float64           0\n",
       "7              func_class    object           0\n",
       "8               pvm_class    object           0\n",
       "9              area_sq_ft   float64           0\n",
       "10               oci_desc    object           0\n",
       "11                 oci_wt   float64           0\n",
       "12                 pve_id     int64           0\n",
       "13               seg_id:1    object           0\n",
       "14             project_id    object           0\n",
       "15                  title    object           0\n",
       "16        project_manager    object           0\n",
       "17  project_manager_phone    object           0\n",
       "18                 status    object           0\n",
       "19                   type    object           0\n",
       "20      resident_engineer    object          38\n",
       "21         address_street    object           0\n",
       "22          street_from:1    object          15\n",
       "23            street_to:1    object          15\n",
       "24                 seg_cd   float64           0\n",
       "25                 length     int64           0\n",
       "26                  width   float64           0\n",
       "27        date_moratorium    object        4426\n",
       "28             date_start    object           1\n",
       "29               date_end    object           7\n",
       "30           paving_miles   float64           0\n",
       "31            street_name    object       16874\n",
       "32            total_count   float64       16874"
      ]
     },
     "execution_count": 18,
     "metadata": {},
     "output_type": "execute_result"
    }
   ],
   "source": [
    "# get number of rows and columns\n",
    "print('Number of Rows:', df.shape[0])\n",
    "print('Number of Columns:', df.shape[1], '\\n')\n",
    "\n",
    "# inspect datatypes and nulls\n",
    "data_types = df.dtypes\n",
    "data_types = pd.DataFrame(data_types)\n",
    "data_types = data_types.assign(Null_Values = \n",
    "                               df.isnull().sum())\n",
    "data_types.reset_index(inplace = True)\n",
    "data_types.rename(columns={0:'Data Type',\n",
    "                             'index': 'Column/Variable',\n",
    "                             'Null_Values': \"# of Nulls\"})"
   ]
  },
  {
   "cell_type": "markdown",
   "metadata": {},
   "source": [
    "### Bias Exploration\n",
    "\n",
    "To explore potential areas of bias, we will endeavor to trace class imbalance on the target feature of \"oci_desc.\""
   ]
  },
  {
   "cell_type": "code",
   "execution_count": 19,
   "metadata": {},
   "outputs": [
    {
     "data": {
      "text/html": [
       "<table>\n",
       "    <thead>\n",
       "        <tr>\n",
       "            <th>Fair Condition</th>\n",
       "            <th>Good Condition</th>\n",
       "            <th>Poor Condition</th>\n",
       "            <th>Total</th>\n",
       "        </tr>\n",
       "    </thead>\n",
       "    <tbody>\n",
       "        <tr>\n",
       "            <td>6105</td>\n",
       "            <td>15758</td>\n",
       "            <td>1142</td>\n",
       "            <td>23005</td>\n",
       "        </tr>\n",
       "    </tbody>\n",
       "</table>"
      ],
      "text/plain": [
       "+----------------+----------------+----------------+-------+\n",
       "| Fair Condition | Good Condition | Poor Condition | Total |\n",
       "+----------------+----------------+----------------+-------+\n",
       "|      6105      |     15758      |      1142      | 23005 |\n",
       "+----------------+----------------+----------------+-------+"
      ]
     },
     "execution_count": 19,
     "metadata": {},
     "output_type": "execute_result"
    }
   ],
   "source": [
    "oci_desc_fair = df['oci_desc'].value_counts()['Fair']\n",
    "oci_desc_good = df['oci_desc'].value_counts()['Good']\n",
    "oci_desc_poor = df['oci_desc'].value_counts()['Poor']\n",
    "oci_desc_total = oci_desc_fair  + oci_desc_good + oci_desc_poor\n",
    "\n",
    "table1 = PrettyTable() # build a table\n",
    "table1.field_names = ['Fair Condition', 'Good Condition', \n",
    "                      'Poor Condition', 'Total']\n",
    "table1.add_row([oci_desc_fair, oci_desc_good, oci_desc_poor, \n",
    "                oci_desc_total])\n",
    "table1"
   ]
  },
  {
   "cell_type": "code",
   "execution_count": 20,
   "metadata": {},
   "outputs": [
    {
     "name": "stdout",
     "output_type": "stream",
     "text": [
      "68.0 % of streets are in good condition \n",
      "27.0 % of streets are in fair condition \n",
      "5.0 % of streets are in poor condition \n"
     ]
    }
   ],
   "source": [
    "perc_good = oci_desc_good /(oci_desc_total) \n",
    "perc_fair = oci_desc_fair /(oci_desc_total)\n",
    "perc_poor = oci_desc_poor /(oci_desc_total)\n",
    "print(round(perc_good, 2)*100, '% of streets '\n",
    "                       'are in good condition ')\n",
    "print(round(perc_fair, 2)*100, '% of streets '\n",
    "                       'are in fair condition ')\n",
    "print(round(perc_poor, 2)*100, '% of streets '\n",
    "                       'are in poor condition ')"
   ]
  },
  {
   "cell_type": "markdown",
   "metadata": {},
   "source": [
    "Considerably more than half of the streets are in good condition. A little less than a third are in fair condition. Only 5% are in poor condition."
   ]
  },
  {
   "cell_type": "code",
   "execution_count": 21,
   "metadata": {},
   "outputs": [
    {
     "data": {
      "image/png": "[encoded data removed]",
      "text/plain": [
       "<Figure size 432x288 with 1 Axes>"
      ]
     },
     "metadata": {
      "needs_background": "light"
     },
     "output_type": "display_data"
    },
    {
     "data": {
      "text/plain": [
       "Good    15758\n",
       "Fair     6105\n",
       "Poor     1142\n",
       "Name: oci_desc, dtype: int64"
      ]
     },
     "execution_count": 21,
     "metadata": {},
     "output_type": "execute_result"
    }
   ],
   "source": [
    "# accidents injury bar graph\n",
    "conditions = df['oci_desc'].value_counts()\n",
    "fig = plt.figure()\n",
    "conditions.plot.bar(x ='lab', y='val', rot=0, width=0.99, \n",
    "                         color=\"steelblue\")\n",
    "plt.title ('Bar Graph of San Diego Street Conditions')\n",
    "plt.xlabel('Condition') \n",
    "plt.ylabel('Count')\n",
    "plt.show()\n",
    "\n",
    "conditions"
   ]
  },
  {
   "cell_type": "markdown",
   "metadata": {},
   "source": [
    "Whereas a method can be used to classify street conditions into multiple classes, it is easier to re-classify streets in “fair” and “good” condition into one category in comparison with the poor class. This, in turn, becomes a binary classification problem. Thus, there are now 21,863 streets in good condition and 1,142 in poor condition (only 5% of all streets). This presents a definitive example of class imbalance."
   ]
  },
  {
   "cell_type": "code",
   "execution_count": 22,
   "metadata": {},
   "outputs": [
    {
     "data": {
      "text/plain": [
       "1    21863\n",
       "0     1142\n",
       "Name: oci_cat, dtype: int64"
      ]
     },
     "execution_count": 22,
     "metadata": {},
     "output_type": "execute_result"
    }
   ],
   "source": [
    "df['oci_cat'] = df['oci_desc'].map({'Good':1, 'Fair':1,\n",
    "                                    'Poor':0})\n",
    "cond = df['oci_cat'].value_counts()\n",
    "cond"
   ]
  },
  {
   "cell_type": "code",
   "execution_count": 23,
   "metadata": {},
   "outputs": [
    {
     "data": {
      "image/png": "[encoded data removed]",
      "text/plain": [
       "<Figure size 432x288 with 1 Axes>"
      ]
     },
     "metadata": {
      "needs_background": "light"
     },
     "output_type": "display_data"
    },
    {
     "data": {
      "text/plain": [
       "1    21863\n",
       "0     1142\n",
       "Name: oci_cat, dtype: int64"
      ]
     },
     "execution_count": 23,
     "metadata": {},
     "output_type": "execute_result"
    }
   ],
   "source": [
    "# oci ratings bar graph\n",
    "fig = plt.figure()\n",
    "cond.plot.bar(x ='lab', y='val', rot=0, width=0.99, \n",
    "                         color=\"steelblue\")\n",
    "plt.title ('Bar Graph of San Diego Street Conditions')\n",
    "plt.xlabel('Condition') \n",
    "plt.ylabel('Count')\n",
    "plt.show()\n",
    "\n",
    "cond"
   ]
  },
  {
   "cell_type": "code",
   "execution_count": 24,
   "metadata": {},
   "outputs": [
    {
     "data": {
      "text/html": [
       "<div>\n",
       "<style scoped>\n",
       "    .dataframe tbody tr th:only-of-type {\n",
       "        vertical-align: middle;\n",
       "    }\n",
       "\n",
       "    .dataframe tbody tr th {\n",
       "        vertical-align: top;\n",
       "    }\n",
       "\n",
       "    .dataframe thead th {\n",
       "        text-align: right;\n",
       "    }\n",
       "</style>\n",
       "<table border=\"1\" class=\"dataframe\">\n",
       "  <thead>\n",
       "    <tr style=\"text-align: right;\">\n",
       "      <th></th>\n",
       "      <th>oci</th>\n",
       "      <th>OCI Range</th>\n",
       "    </tr>\n",
       "  </thead>\n",
       "  <tbody>\n",
       "    <tr>\n",
       "      <th>0</th>\n",
       "      <td>34.14</td>\n",
       "      <td>30 - 35</td>\n",
       "    </tr>\n",
       "    <tr>\n",
       "      <th>1</th>\n",
       "      <td>97.25</td>\n",
       "      <td>90 - 95</td>\n",
       "    </tr>\n",
       "    <tr>\n",
       "      <th>2</th>\n",
       "      <td>62.67</td>\n",
       "      <td>60 - 65</td>\n",
       "    </tr>\n",
       "    <tr>\n",
       "      <th>3</th>\n",
       "      <td>68.86</td>\n",
       "      <td>60 - 65</td>\n",
       "    </tr>\n",
       "    <tr>\n",
       "      <th>4</th>\n",
       "      <td>28.67</td>\n",
       "      <td>20 - 25</td>\n",
       "    </tr>\n",
       "    <tr>\n",
       "      <th>...</th>\n",
       "      <td>...</td>\n",
       "      <td>...</td>\n",
       "    </tr>\n",
       "    <tr>\n",
       "      <th>23000</th>\n",
       "      <td>93.40</td>\n",
       "      <td>90 - 95</td>\n",
       "    </tr>\n",
       "    <tr>\n",
       "      <th>23001</th>\n",
       "      <td>91.01</td>\n",
       "      <td>90 - 95</td>\n",
       "    </tr>\n",
       "    <tr>\n",
       "      <th>23002</th>\n",
       "      <td>97.26</td>\n",
       "      <td>90 - 95</td>\n",
       "    </tr>\n",
       "    <tr>\n",
       "      <th>23003</th>\n",
       "      <td>95.00</td>\n",
       "      <td>90 - 95</td>\n",
       "    </tr>\n",
       "    <tr>\n",
       "      <th>23004</th>\n",
       "      <td>80.83</td>\n",
       "      <td>80 - 85</td>\n",
       "    </tr>\n",
       "  </tbody>\n",
       "</table>\n",
       "<p>23005 rows × 2 columns</p>\n",
       "</div>"
      ],
      "text/plain": [
       "         oci OCI Range\n",
       "0      34.14   30 - 35\n",
       "1      97.25   90 - 95\n",
       "2      62.67   60 - 65\n",
       "3      68.86   60 - 65\n",
       "4      28.67   20 - 25\n",
       "...      ...       ...\n",
       "23000  93.40   90 - 95\n",
       "23001  91.01   90 - 95\n",
       "23002  97.26   90 - 95\n",
       "23003  95.00   90 - 95\n",
       "23004  80.83   80 - 85\n",
       "\n",
       "[23005 rows x 2 columns]"
      ]
     },
     "execution_count": 24,
     "metadata": {},
     "output_type": "execute_result"
    }
   ],
   "source": [
    "# cast oci info into range of values\n",
    "labels = [ \"{0} - {1}\".format(i, i + 5) for i in range(0, 100, 10) ]\n",
    "df['OCI Range'] = pd.cut(df.oci, range(0, 105, 10), \n",
    "                                right=False, \n",
    "                                labels=labels).astype(object)\n",
    "# inspect the new dataframe with this info\n",
    "df[['oci', 'OCI Range']]"
   ]
  },
  {
   "cell_type": "code",
   "execution_count": 25,
   "metadata": {},
   "outputs": [
    {
     "name": "stdout",
     "output_type": "stream",
     "text": [
      "\u001b[1mStreet Conditions by Condition Index Range\u001b[1m\n"
     ]
    },
    {
     "data": {
      "text/html": [
       "<div>\n",
       "<style scoped>\n",
       "    .dataframe tbody tr th:only-of-type {\n",
       "        vertical-align: middle;\n",
       "    }\n",
       "\n",
       "    .dataframe tbody tr th {\n",
       "        vertical-align: top;\n",
       "    }\n",
       "\n",
       "    .dataframe thead th {\n",
       "        text-align: right;\n",
       "    }\n",
       "</style>\n",
       "<table border=\"1\" class=\"dataframe\">\n",
       "  <thead>\n",
       "    <tr style=\"text-align: right;\">\n",
       "      <th></th>\n",
       "      <th>Good</th>\n",
       "      <th>Fair</th>\n",
       "      <th>Poor</th>\n",
       "      <th>Total</th>\n",
       "    </tr>\n",
       "  </thead>\n",
       "  <tbody>\n",
       "    <tr>\n",
       "      <th>70 - 75</th>\n",
       "      <td>4766.0</td>\n",
       "      <td>3.0</td>\n",
       "      <td>0.0</td>\n",
       "      <td>4769.0</td>\n",
       "    </tr>\n",
       "    <tr>\n",
       "      <th>80 - 85</th>\n",
       "      <td>7341.0</td>\n",
       "      <td>0.0</td>\n",
       "      <td>0.0</td>\n",
       "      <td>7341.0</td>\n",
       "    </tr>\n",
       "    <tr>\n",
       "      <th>90 - 95</th>\n",
       "      <td>3541.0</td>\n",
       "      <td>0.0</td>\n",
       "      <td>0.0</td>\n",
       "      <td>3541.0</td>\n",
       "    </tr>\n",
       "    <tr>\n",
       "      <th>40 - 45</th>\n",
       "      <td>0.0</td>\n",
       "      <td>1095.0</td>\n",
       "      <td>0.0</td>\n",
       "      <td>1095.0</td>\n",
       "    </tr>\n",
       "    <tr>\n",
       "      <th>50 - 55</th>\n",
       "      <td>0.0</td>\n",
       "      <td>1685.0</td>\n",
       "      <td>0.0</td>\n",
       "      <td>1685.0</td>\n",
       "    </tr>\n",
       "    <tr>\n",
       "      <th>60 - 65</th>\n",
       "      <td>0.0</td>\n",
       "      <td>3322.0</td>\n",
       "      <td>0.0</td>\n",
       "      <td>3322.0</td>\n",
       "    </tr>\n",
       "    <tr>\n",
       "      <th>0 - 5</th>\n",
       "      <td>0.0</td>\n",
       "      <td>0.0</td>\n",
       "      <td>37.0</td>\n",
       "      <td>37.0</td>\n",
       "    </tr>\n",
       "    <tr>\n",
       "      <th>10 - 15</th>\n",
       "      <td>0.0</td>\n",
       "      <td>0.0</td>\n",
       "      <td>135.0</td>\n",
       "      <td>135.0</td>\n",
       "    </tr>\n",
       "    <tr>\n",
       "      <th>20 - 25</th>\n",
       "      <td>0.0</td>\n",
       "      <td>0.0</td>\n",
       "      <td>259.0</td>\n",
       "      <td>259.0</td>\n",
       "    </tr>\n",
       "    <tr>\n",
       "      <th>30 - 35</th>\n",
       "      <td>0.0</td>\n",
       "      <td>0.0</td>\n",
       "      <td>711.0</td>\n",
       "      <td>711.0</td>\n",
       "    </tr>\n",
       "    <tr>\n",
       "      <th>Total</th>\n",
       "      <td>15648.0</td>\n",
       "      <td>6105.0</td>\n",
       "      <td>1142.0</td>\n",
       "      <td>22895.0</td>\n",
       "    </tr>\n",
       "  </tbody>\n",
       "</table>\n",
       "</div>"
      ],
      "text/plain": [
       "            Good    Fair    Poor    Total\n",
       "70 - 75   4766.0     3.0     0.0   4769.0\n",
       "80 - 85   7341.0     0.0     0.0   7341.0\n",
       "90 - 95   3541.0     0.0     0.0   3541.0\n",
       "40 - 45      0.0  1095.0     0.0   1095.0\n",
       "50 - 55      0.0  1685.0     0.0   1685.0\n",
       "60 - 65      0.0  3322.0     0.0   3322.0\n",
       "0 - 5        0.0     0.0    37.0     37.0\n",
       "10 - 15      0.0     0.0   135.0    135.0\n",
       "20 - 25      0.0     0.0   259.0    259.0\n",
       "30 - 35      0.0     0.0   711.0    711.0\n",
       "Total    15648.0  6105.0  1142.0  22895.0"
      ]
     },
     "execution_count": 25,
     "metadata": {},
     "output_type": "execute_result"
    }
   ],
   "source": [
    "print(\"\\033[1m\"+'Street Conditions by Condition Index Range'+\"\\033[1m\")\n",
    "def oci_cond():\n",
    "    oci_desc_good = df.loc[df.oci_desc == 'Good'].groupby(\n",
    "                               ['OCI Range'])[['oci_desc']].count()\n",
    "    oci_desc_good.rename(columns = {'oci_desc':'Good'}, inplace=True)\n",
    "\n",
    "    oci_desc_fair = df.loc[df.oci_desc == 'Fair'].groupby(\n",
    "                               ['OCI Range'])[['oci_desc']].count()\n",
    "    oci_desc_fair.rename(columns = {'oci_desc':'Fair'}, inplace=True)\n",
    "\n",
    "    oci_desc_poor = df.loc[df.oci_desc == 'Poor'].groupby(\n",
    "                               ['OCI Range'])[['oci_desc']].count()\n",
    "    oci_desc_poor.rename(columns = {'oci_desc':'Poor'}, inplace=True)\n",
    "\n",
    "    oci_desc_comb = pd.concat([oci_desc_good, oci_desc_fair, oci_desc_poor], \n",
    "    axis = 1)\n",
    "    # sum row totals\n",
    "    oci_desc_comb.loc['Total']= oci_desc_comb.sum(numeric_only=True, axis=0)\n",
    "    # sum column totals\n",
    "    oci_desc_comb.loc[:,'Total'] = oci_desc_comb.sum(numeric_only=True, axis=1)\n",
    "\n",
    "    oci_desc_comb.fillna(0, inplace = True)\n",
    "    return oci_desc_comb.style.format(\"{:,.0f}\")\n",
    "\n",
    "oci_cond = oci_cond().data # retrieve dataframe\n",
    "oci_cond"
   ]
  },
  {
   "cell_type": "code",
   "execution_count": 26,
   "metadata": {},
   "outputs": [
    {
     "data": {
      "image/png": "[encoded data removed]",
      "text/plain": [
       "<Figure size 432x288 with 1 Axes>"
      ]
     },
     "metadata": {
      "needs_background": "light"
     },
     "output_type": "display_data"
    }
   ],
   "source": [
    "oci_plt = oci_cond['Total'][0:8].sort_values(ascending=False)\n",
    "oci_plt.plot(kind='bar', width=0.90)\n",
    "plt.title('Street Conditions by Index Range')\n",
    "plt.xlabel('Index Range')\n",
    "plt.ylabel('# of Streets')\n",
    "plt.show()"
   ]
  },
  {
   "cell_type": "markdown",
   "metadata": {},
   "source": [
    "### Summary Statistics "
   ]
  },
  {
   "cell_type": "code",
   "execution_count": 27,
   "metadata": {},
   "outputs": [
    {
     "data": {
      "text/html": [
       "<div>\n",
       "<style scoped>\n",
       "    .dataframe tbody tr th:only-of-type {\n",
       "        vertical-align: middle;\n",
       "    }\n",
       "\n",
       "    .dataframe tbody tr th {\n",
       "        vertical-align: top;\n",
       "    }\n",
       "\n",
       "    .dataframe thead th {\n",
       "        text-align: right;\n",
       "    }\n",
       "</style>\n",
       "<table border=\"1\" class=\"dataframe\">\n",
       "  <thead>\n",
       "    <tr style=\"text-align: right;\">\n",
       "      <th></th>\n",
       "      <th>count</th>\n",
       "      <th>mean</th>\n",
       "      <th>std</th>\n",
       "      <th>min</th>\n",
       "      <th>25%</th>\n",
       "      <th>50%</th>\n",
       "      <th>75%</th>\n",
       "      <th>max</th>\n",
       "    </tr>\n",
       "  </thead>\n",
       "  <tbody>\n",
       "    <tr>\n",
       "      <th>oci</th>\n",
       "      <td>23005.0</td>\n",
       "      <td>74.791413</td>\n",
       "      <td>16.784048</td>\n",
       "      <td>0.0</td>\n",
       "      <td>66.3</td>\n",
       "      <td>79.06</td>\n",
       "      <td>87.3</td>\n",
       "      <td>100.0</td>\n",
       "    </tr>\n",
       "  </tbody>\n",
       "</table>\n",
       "</div>"
      ],
      "text/plain": [
       "       count       mean        std  min   25%    50%   75%    max\n",
       "oci  23005.0  74.791413  16.784048  0.0  66.3  79.06  87.3  100.0"
      ]
     },
     "execution_count": 27,
     "metadata": {},
     "output_type": "execute_result"
    }
   ],
   "source": [
    "# summary statistics\n",
    "summ_stats = pd.DataFrame(df['oci'].describe()).T\n",
    "summ_stats"
   ]
  },
  {
   "cell_type": "code",
   "execution_count": 28,
   "metadata": {},
   "outputs": [
    {
     "name": "stdout",
     "output_type": "stream",
     "text": [
      "\u001b[1mOverall Condition Index (OCI) Summary\u001b[1m\n"
     ]
    },
    {
     "data": {
      "text/html": [
       "<div>\n",
       "<style scoped>\n",
       "    .dataframe tbody tr th:only-of-type {\n",
       "        vertical-align: middle;\n",
       "    }\n",
       "\n",
       "    .dataframe tbody tr th {\n",
       "        vertical-align: top;\n",
       "    }\n",
       "\n",
       "    .dataframe thead th {\n",
       "        text-align: right;\n",
       "    }\n",
       "</style>\n",
       "<table border=\"1\" class=\"dataframe\">\n",
       "  <thead>\n",
       "    <tr style=\"text-align: right;\">\n",
       "      <th></th>\n",
       "      <th>Mean</th>\n",
       "      <th>Median</th>\n",
       "      <th>Standard Deviation</th>\n",
       "      <th>Minimum</th>\n",
       "      <th>Maximum</th>\n",
       "    </tr>\n",
       "    <tr>\n",
       "      <th>OCI Range</th>\n",
       "      <th></th>\n",
       "      <th></th>\n",
       "      <th></th>\n",
       "      <th></th>\n",
       "      <th></th>\n",
       "    </tr>\n",
       "  </thead>\n",
       "  <tbody>\n",
       "    <tr>\n",
       "      <th>0 - 5</th>\n",
       "      <td>6.13</td>\n",
       "      <td>8.00</td>\n",
       "      <td>3.70</td>\n",
       "      <td>0.00</td>\n",
       "      <td>9.69</td>\n",
       "    </tr>\n",
       "    <tr>\n",
       "      <th>10 - 15</th>\n",
       "      <td>15.66</td>\n",
       "      <td>16.40</td>\n",
       "      <td>2.82</td>\n",
       "      <td>10.11</td>\n",
       "      <td>19.84</td>\n",
       "    </tr>\n",
       "    <tr>\n",
       "      <th>20 - 25</th>\n",
       "      <td>25.77</td>\n",
       "      <td>26.17</td>\n",
       "      <td>2.91</td>\n",
       "      <td>20.12</td>\n",
       "      <td>29.96</td>\n",
       "    </tr>\n",
       "    <tr>\n",
       "      <th>30 - 35</th>\n",
       "      <td>35.63</td>\n",
       "      <td>36.04</td>\n",
       "      <td>2.80</td>\n",
       "      <td>30.04</td>\n",
       "      <td>39.98</td>\n",
       "    </tr>\n",
       "    <tr>\n",
       "      <th>40 - 45</th>\n",
       "      <td>45.37</td>\n",
       "      <td>45.58</td>\n",
       "      <td>2.88</td>\n",
       "      <td>40.00</td>\n",
       "      <td>49.98</td>\n",
       "    </tr>\n",
       "    <tr>\n",
       "      <th>50 - 55</th>\n",
       "      <td>55.62</td>\n",
       "      <td>56.00</td>\n",
       "      <td>2.88</td>\n",
       "      <td>50.00</td>\n",
       "      <td>59.98</td>\n",
       "    </tr>\n",
       "    <tr>\n",
       "      <th>60 - 65</th>\n",
       "      <td>65.56</td>\n",
       "      <td>65.80</td>\n",
       "      <td>2.82</td>\n",
       "      <td>60.00</td>\n",
       "      <td>69.99</td>\n",
       "    </tr>\n",
       "    <tr>\n",
       "      <th>70 - 75</th>\n",
       "      <td>75.11</td>\n",
       "      <td>75.16</td>\n",
       "      <td>2.97</td>\n",
       "      <td>70.00</td>\n",
       "      <td>79.99</td>\n",
       "    </tr>\n",
       "    <tr>\n",
       "      <th>80 - 85</th>\n",
       "      <td>85.14</td>\n",
       "      <td>85.15</td>\n",
       "      <td>2.84</td>\n",
       "      <td>80.00</td>\n",
       "      <td>89.99</td>\n",
       "    </tr>\n",
       "    <tr>\n",
       "      <th>90 - 95</th>\n",
       "      <td>93.44</td>\n",
       "      <td>92.89</td>\n",
       "      <td>2.57</td>\n",
       "      <td>90.00</td>\n",
       "      <td>99.33</td>\n",
       "    </tr>\n",
       "    <tr>\n",
       "      <th>Total</th>\n",
       "      <td>503.42</td>\n",
       "      <td>507.19</td>\n",
       "      <td>29.18</td>\n",
       "      <td>450.27</td>\n",
       "      <td>548.73</td>\n",
       "    </tr>\n",
       "  </tbody>\n",
       "</table>\n",
       "</div>"
      ],
      "text/plain": [
       "            Mean  Median  Standard Deviation  Minimum  Maximum\n",
       "OCI Range                                                     \n",
       "0 - 5       6.13    8.00                3.70     0.00     9.69\n",
       "10 - 15    15.66   16.40                2.82    10.11    19.84\n",
       "20 - 25    25.77   26.17                2.91    20.12    29.96\n",
       "30 - 35    35.63   36.04                2.80    30.04    39.98\n",
       "40 - 45    45.37   45.58                2.88    40.00    49.98\n",
       "50 - 55    55.62   56.00                2.88    50.00    59.98\n",
       "60 - 65    65.56   65.80                2.82    60.00    69.99\n",
       "70 - 75    75.11   75.16                2.97    70.00    79.99\n",
       "80 - 85    85.14   85.15                2.84    80.00    89.99\n",
       "90 - 95    93.44   92.89                2.57    90.00    99.33\n",
       "Total     503.42  507.19               29.18   450.27   548.73"
      ]
     },
     "execution_count": 28,
     "metadata": {},
     "output_type": "execute_result"
    }
   ],
   "source": [
    "print(\"\\033[1m\"+'Overall Condition Index (OCI) Summary'+\"\\033[1m\")\n",
    "def oci_by_range():\n",
    "    pd.options.display.float_format = '{:,.2f}'.format\n",
    "    new = df.groupby('OCI Range')['oci']\\\n",
    "    .agg([\"mean\", \"median\", \"std\", \"min\", \"max\"])\n",
    "    new.loc['Total'] = new.sum(numeric_only=True, axis=0)\n",
    "    column_rename = {'mean': 'Mean', 'median': 'Median',\n",
    "                     'std': 'Standard Deviation',\\\n",
    "                     'min':'Minimum','max': 'Maximum'}\n",
    "    dfsummary = new.rename(columns = column_rename)\n",
    "    return dfsummary\n",
    "oci_by_range = oci_by_range()\n",
    "oci_by_range"
   ]
  },
  {
   "cell_type": "markdown",
   "metadata": {},
   "source": [
    "### Histogram Distributions"
   ]
  },
  {
   "cell_type": "code",
   "execution_count": 29,
   "metadata": {},
   "outputs": [
    {
     "data": {
      "image/png": "[encoded data removed]",
      "text/plain": [
       "<Figure size 1296x864 with 12 Axes>"
      ]
     },
     "metadata": {
      "needs_background": "light"
     },
     "output_type": "display_data"
    }
   ],
   "source": [
    "# histograms\n",
    "df.hist(grid=False, figsize=(18,12))\n",
    "plt.show()"
   ]
  },
  {
   "cell_type": "markdown",
   "metadata": {},
   "source": [
    "### Boxplot Distribution"
   ]
  },
  {
   "cell_type": "code",
   "execution_count": 30,
   "metadata": {},
   "outputs": [
    {
     "name": "stdout",
     "output_type": "stream",
     "text": [
      "\u001b[1mBoxplot Distribution\u001b[1m\n"
     ]
    },
    {
     "data": {
      "image/png": "[encoded data removed]",
      "text/plain": [
       "<Figure size 720x108 with 1 Axes>"
      ]
     },
     "metadata": {
      "needs_background": "light"
     },
     "output_type": "display_data"
    },
    {
     "name": "stdout",
     "output_type": "stream",
     "text": [
      "The first quartile is 66.3. \n",
      "The third quartile is 87.3. \n",
      "The IQR is 21.0.\n",
      "The mean is 74.79. \n",
      "The standard deviation is 16.78. \n",
      "The median is 79.06. \n"
     ]
    }
   ],
   "source": [
    "# selected boxplot distribution for oci values\n",
    "print(\"\\033[1m\"+'Boxplot Distribution'+\"\\033[1m\")\n",
    "\n",
    "# Boxplot of age as one way of showing distribution\n",
    "fig = plt.figure(figsize = (10,1.5))\n",
    "plt.title ('Boxplot: Overall Condition Index (OCI)')\n",
    "plt.xlabel('Speed Limit')\n",
    "plt.ylabel('Value')\n",
    "sns.boxplot(data=df['oci'], \n",
    "            palette=\"coolwarm\", orient='h', \n",
    "            linewidth=2.5)\n",
    "plt.show()\n",
    "\n",
    "IQR = summ_stats['75%'][0] - summ_stats['25%'][0]\n",
    "\n",
    "print('The first quartile is %s. '%summ_stats['25%'][0])\n",
    "print('The third quartile is %s. '%summ_stats['75%'][0])\n",
    "print('The IQR is %s.'%round(IQR,2))\n",
    "print('The mean is %s. '%round(summ_stats['mean'][0],2))\n",
    "print('The standard deviation is %s. '%round(summ_stats['std'][0],2))\n",
    "print('The median is %s. '%round(summ_stats['50%'][0],2))"
   ]
  },
  {
   "cell_type": "markdown",
   "metadata": {},
   "source": [
    "### Correlation Matrix"
   ]
  },
  {
   "cell_type": "code",
   "execution_count": 31,
   "metadata": {},
   "outputs": [
    {
     "data": {
      "image/png": "[encoded data removed]",
      "text/plain": [
       "<Figure size 720x720 with 2 Axes>"
      ]
     },
     "metadata": {
      "needs_background": "light"
     },
     "output_type": "display_data"
    }
   ],
   "source": [
    "# assign correlation function to new variable\n",
    "corr = df.corr()\n",
    "matrix = np.triu(corr) # for triangular matrix\n",
    "plt.figure(figsize=(10,10))\n",
    "# parse corr variable intro triangular matrix\n",
    "sns.heatmap(df.corr(method='pearson'), \n",
    "            annot=True, linewidths=.5, \n",
    "            cmap=\"coolwarm\", mask=matrix,\n",
    "            square = True, \n",
    "            cbar_kws={'label': 'Correlation Index'})\n",
    "plt.show()"
   ]
  },
  {
   "cell_type": "markdown",
   "metadata": {},
   "source": [
    "### Multicollinearity\n",
    "\n",
    "Let us narrow our focus by removing highly correlated predictors and passing the rest into a new dataframe."
   ]
  },
  {
   "cell_type": "code",
   "execution_count": 32,
   "metadata": {},
   "outputs": [
    {
     "name": "stdout",
     "output_type": "stream",
     "text": [
      "These are the columns we should drop: ['area_sq_ft', 'oci_wt', 'length', 'width', 'paving_miles']\n"
     ]
    }
   ],
   "source": [
    "cor_matrix = df.corr().abs()\n",
    "upper_tri = cor_matrix.where(np.triu(np.ones(cor_matrix.shape),\n",
    "                                     k=1).astype(np.bool))\n",
    "\n",
    "to_drop = [column for column in upper_tri.columns if \n",
    "           any(upper_tri[column] > 0.75)]\n",
    "print('These are the columns we should drop: %s'%to_drop)"
   ]
  },
  {
   "cell_type": "markdown",
   "metadata": {},
   "source": [
    "### Feature Engineering"
   ]
  },
  {
   "cell_type": "code",
   "execution_count": 33,
   "metadata": {},
   "outputs": [],
   "source": [
    "df['func_class'].value_counts()\n",
    "df['func_cat'] = df['func_class'].map({'Residential': 1, \n",
    "                                       'Collector': 2,\n",
    "                                       'Major': 3, 'Prime':4,\n",
    "                                       'Local':5, 'Alley':6})"
   ]
  },
  {
   "cell_type": "code",
   "execution_count": 34,
   "metadata": {},
   "outputs": [],
   "source": [
    "df['pvm_class'].value_counts()\n",
    "df['pvm_cat'] = df['pvm_class'].map({'AC Improved': 1, \n",
    "                                     'PCC Jointed Concrete': 2,\n",
    "                                     'AC Unimproved': 3, \n",
    "                                     'UnSurfaced':4})"
   ]
  },
  {
   "cell_type": "code",
   "execution_count": 35,
   "metadata": {},
   "outputs": [],
   "source": [
    "df['status'].value_counts()\n",
    "df['status_cat'] = df['status'].map({'post construction': 1, \n",
    "                                     'design': 2,\n",
    "                                     'bid / award': 3, \n",
    "                                     'construction':4,\n",
    "                                     'planning': 5})"
   ]
  },
  {
   "cell_type": "code",
   "execution_count": 36,
   "metadata": {},
   "outputs": [],
   "source": [
    "df['type'].value_counts()\n",
    "df['type_cat'] = df['type'].map({'Slurry': 1, 'Overlay': 2,\n",
    "                                 'Concrete': 3})"
   ]
  },
  {
   "cell_type": "code",
   "execution_count": 37,
   "metadata": {},
   "outputs": [],
   "source": [
    "df['date_end'] = pd.to_datetime(df['date_end'])\n",
    "df['date_start'] = pd.to_datetime(df['date_start'])\n",
    "day_diff = df.dropna(subset=['date_end', 'date_start'],\n",
    "                             inplace=True) \n",
    "df['day_diff'] = (df['date_end'] - df['date_start']).dt.days.astype(int)"
   ]
  },
  {
   "cell_type": "markdown",
   "metadata": {},
   "source": [
    "### Dropping Non-Useful/Re-classed Columns"
   ]
  },
  {
   "cell_type": "code",
   "execution_count": 38,
   "metadata": {},
   "outputs": [],
   "source": [
    "# drop unnecessary columns\n",
    "df = df.drop(columns=['street_from','street_from:1', 'street_to', \n",
    "                      'street_to:1','street_name','total_count',\n",
    "                      'seg_id', 'seg_id:1','street', \n",
    "                      'pve_id', 'title','project_manager', \n",
    "                      'project_manager_phone', 'project_id',\n",
    "                      'resident_engineer', 'address_street', \n",
    "                      'date_moratorium', 'OCI Range'])\n",
    "df = df.reset_index(drop=True)\n",
    "\n",
    "# drop re-classed columns\n",
    "df = df.drop(columns=['func_class', 'pvm_class', 'status', 'type',\n",
    "                      'date_end', 'date_start', 'oci_desc'])"
   ]
  },
  {
   "cell_type": "code",
   "execution_count": 39,
   "metadata": {},
   "outputs": [],
   "source": [
    "# create new dataframe for final pre-processing steps\n",
    "df1 = df.copy()"
   ]
  },
  {
   "cell_type": "code",
   "execution_count": 40,
   "metadata": {},
   "outputs": [],
   "source": [
    "# output to csv file as backup\n",
    "# df.to_csv('sd_roads_dataframe.csv')"
   ]
  },
  {
   "cell_type": "markdown",
   "metadata": {},
   "source": [
    "### Handling Class Imbalance"
   ]
  },
  {
   "cell_type": "markdown",
   "metadata": {},
   "source": [
    "Multiple methods for balancing a dataset exist like “undersampling the majority classes” (Fregly & Barth, 2021, p. 178). To account for the large gap (95%) of mis-classed data on the “poor” condition class, “oversampling the minority class up to the majority class” (p. 179) is commenced. However, such endeavor cannot proceed in good faith without the unsupervised dimensionality reduction technique of Principal Component Analysis (PCA), which is carried out “to compact the dataset and eliminate irrelevant\n",
    "Features” (Naseriparsa & Kashani, 2014, p. 33). In this case, a new dataframe is reduced down into the first two principal components.\n"
   ]
  },
  {
   "cell_type": "code",
   "execution_count": 41,
   "metadata": {},
   "outputs": [],
   "source": [
    "pca = PCA(n_components=2, random_state=777)\n",
    "data_2d = pd.DataFrame(pca.fit_transform(df1.iloc[:,0:9]))"
   ]
  },
  {
   "cell_type": "code",
   "execution_count": 42,
   "metadata": {},
   "outputs": [
    {
     "data": {
      "text/html": [
       "<div>\n",
       "<style scoped>\n",
       "    .dataframe tbody tr th:only-of-type {\n",
       "        vertical-align: middle;\n",
       "    }\n",
       "\n",
       "    .dataframe tbody tr th {\n",
       "        vertical-align: top;\n",
       "    }\n",
       "\n",
       "    .dataframe thead th {\n",
       "        text-align: right;\n",
       "    }\n",
       "</style>\n",
       "<table border=\"1\" class=\"dataframe\">\n",
       "  <thead>\n",
       "    <tr style=\"text-align: right;\">\n",
       "      <th></th>\n",
       "      <th>x</th>\n",
       "      <th>y</th>\n",
       "      <th>oci_cat</th>\n",
       "    </tr>\n",
       "  </thead>\n",
       "  <tbody>\n",
       "    <tr>\n",
       "      <th>0</th>\n",
       "      <td>-565,511.27</td>\n",
       "      <td>14,903.90</td>\n",
       "      <td>0</td>\n",
       "    </tr>\n",
       "    <tr>\n",
       "      <th>1</th>\n",
       "      <td>438,106.82</td>\n",
       "      <td>-5,292.13</td>\n",
       "      <td>1</td>\n",
       "    </tr>\n",
       "    <tr>\n",
       "      <th>2</th>\n",
       "      <td>-290,656.81</td>\n",
       "      <td>3,118.86</td>\n",
       "      <td>1</td>\n",
       "    </tr>\n",
       "    <tr>\n",
       "      <th>3</th>\n",
       "      <td>-123,365.79</td>\n",
       "      <td>1,734.80</td>\n",
       "      <td>1</td>\n",
       "    </tr>\n",
       "    <tr>\n",
       "      <th>4</th>\n",
       "      <td>-958,462.86</td>\n",
       "      <td>11,356.77</td>\n",
       "      <td>0</td>\n",
       "    </tr>\n",
       "    <tr>\n",
       "      <th>...</th>\n",
       "      <td>...</td>\n",
       "      <td>...</td>\n",
       "      <td>...</td>\n",
       "    </tr>\n",
       "    <tr>\n",
       "      <th>22993</th>\n",
       "      <td>-1,120,094.45</td>\n",
       "      <td>-2,138.79</td>\n",
       "      <td>1</td>\n",
       "    </tr>\n",
       "    <tr>\n",
       "      <th>22994</th>\n",
       "      <td>1,469,689.05</td>\n",
       "      <td>-5,161.03</td>\n",
       "      <td>1</td>\n",
       "    </tr>\n",
       "    <tr>\n",
       "      <th>22995</th>\n",
       "      <td>1,321,569.47</td>\n",
       "      <td>-6,995.59</td>\n",
       "      <td>1</td>\n",
       "    </tr>\n",
       "    <tr>\n",
       "      <th>22996</th>\n",
       "      <td>-846,170.55</td>\n",
       "      <td>-2,671.76</td>\n",
       "      <td>1</td>\n",
       "    </tr>\n",
       "    <tr>\n",
       "      <th>22997</th>\n",
       "      <td>-932,156.29</td>\n",
       "      <td>-1,420.73</td>\n",
       "      <td>1</td>\n",
       "    </tr>\n",
       "  </tbody>\n",
       "</table>\n",
       "<p>22998 rows × 3 columns</p>\n",
       "</div>"
      ],
      "text/plain": [
       "                  x         y  oci_cat\n",
       "0       -565,511.27 14,903.90        0\n",
       "1        438,106.82 -5,292.13        1\n",
       "2       -290,656.81  3,118.86        1\n",
       "3       -123,365.79  1,734.80        1\n",
       "4       -958,462.86 11,356.77        0\n",
       "...             ...       ...      ...\n",
       "22993 -1,120,094.45 -2,138.79        1\n",
       "22994  1,469,689.05 -5,161.03        1\n",
       "22995  1,321,569.47 -6,995.59        1\n",
       "22996   -846,170.55 -2,671.76        1\n",
       "22997   -932,156.29 -1,420.73        1\n",
       "\n",
       "[22998 rows x 3 columns]"
      ]
     },
     "execution_count": 42,
     "metadata": {},
     "output_type": "execute_result"
    }
   ],
   "source": [
    "data_2d= pd.concat([data_2d, df1['oci_cat']], axis=1)\n",
    "data_2d.columns = ['x', 'y', 'oci_cat']; data_2d"
   ]
  },
  {
   "cell_type": "code",
   "execution_count": 43,
   "metadata": {},
   "outputs": [
    {
     "data": {
      "image/png": "[encoded data removed]",
      "text/plain": [
       "<Figure size 402.875x360 with 1 Axes>"
      ]
     },
     "metadata": {
      "needs_background": "light"
     },
     "output_type": "display_data"
    }
   ],
   "source": [
    "sns.lmplot('x','y', data_2d,fit_reg=False,hue='oci_cat',\n",
    "                    palette=['#00BFC4','#F8766D'])\n",
    "plt.title('Class Imbalance in Street Condition Index'); plt.show()"
   ]
  },
  {
   "cell_type": "code",
   "execution_count": 44,
   "metadata": {},
   "outputs": [],
   "source": [
    "ada = ADASYN(random_state=222)\n",
    "X_resampled, y_resampled = ada.fit_resample(df1.iloc[:,0:14], df1['oci_cat'])"
   ]
  },
  {
   "cell_type": "code",
   "execution_count": 45,
   "metadata": {},
   "outputs": [],
   "source": [
    "df2 = pd.concat([pd.DataFrame(X_resampled), pd.DataFrame(y_resampled)], axis=1)\n",
    "df2.columns = df1.columns"
   ]
  },
  {
   "cell_type": "markdown",
   "metadata": {},
   "source": [
    "The classes are re-balanced in a new dataframe using oversampling:"
   ]
  },
  {
   "cell_type": "code",
   "execution_count": 46,
   "metadata": {},
   "outputs": [
    {
     "data": {
      "text/plain": [
       "1    21858\n",
       "0    21844\n",
       "Name: oci_cat, dtype: int64"
      ]
     },
     "execution_count": 46,
     "metadata": {},
     "output_type": "execute_result"
    }
   ],
   "source": [
    "# rebalanced classes in new df\n",
    "df2['oci_cat'].value_counts()"
   ]
  },
  {
   "cell_type": "markdown",
   "metadata": {},
   "source": [
    "**References**\n",
    "\n",
    "Amazon Web Services. (n.d.). *Amazon Athena.*   \n",
    "https://aws.amazon.com/athena/?whats-new-cards.sort-by=item.additionalFields.postDateTime&whats-new-cards.sort-order=desc\n",
    "\n",
    "Fregly, C., Barth, A. (2021). *Data Science on AWS.* O'Reilly.\n",
    "\n",
    "Garrick, D. (2021, September 12). San Diego to spend $700K assessing street conditions to spend repair  \n",
    "money wisely. *The San Diego Union-Tribune.*  \n",
    "https://www.sandiegouniontribune.com/news/politics/story/2021-09-12/san-diego-to-spend-700k-assessing-street-conditions-to-spend-repair-money-wisely\n",
    "\n",
    "Naseriparsa, M. &  Kashani, M.M.R. (2014). Combination of PCA with SMOTE Resampling to Boost the \n",
    "Prediction Rate in Lung Cancer Dataset.  \n",
    "*International Journal of Computer Applications, 77*(3) 33-38. https://doi.org/10.5120/13376-0987\n"
   ]
  }
 ],
 "metadata": {
  "kernelspec": {
   "display_name": "Python 3",
   "language": "python",
   "name": "python3"
  },
  "language_info": {
   "codemirror_mode": {
    "name": "ipython",
    "version": 3
   },
   "file_extension": ".py",
   "mimetype": "text/x-python",
   "name": "python",
   "nbconvert_exporter": "python",
   "pygments_lexer": "ipython3",
   "version": "3.8.3"
  }
 },
 "nbformat": 4,
 "nbformat_minor": 4
}
